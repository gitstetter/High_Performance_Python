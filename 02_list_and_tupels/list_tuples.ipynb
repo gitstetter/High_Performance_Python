{
 "cells": [
  {
   "cell_type": "code",
   "execution_count": 2,
   "metadata": {},
   "outputs": [
    {
     "name": "stdout",
     "output_type": "stream",
     "text": [
      "294 ns ± 1.88 ns per loop (mean ± std. dev. of 7 runs, 1000000 loops each)\n"
     ]
    }
   ],
   "source": [
    "%%timeit \n",
    "l= list(range(10))"
   ]
  },
  {
   "cell_type": "code",
   "execution_count": 4,
   "metadata": {},
   "outputs": [
    {
     "name": "stdout",
     "output_type": "stream",
     "text": [
      "240 ms ± 10.4 ms per loop (mean ± std. dev. of 7 runs, 1 loop each)\n"
     ]
    }
   ],
   "source": [
    "%%timeit \n",
    "m = list(range(10_000_000))\n",
    "#Abozut same speed for 1_000_000 times the size"
   ]
  },
  {
   "cell_type": "code",
   "execution_count": 25,
   "metadata": {},
   "outputs": [
    {
     "name": "stdout",
     "output_type": "stream",
     "text": [
      "Value 1        found in haystack of size 10000    at index 1        in 0.00023413350999999238 seconds\n",
      "Total time: 0.23413350999999238 seconds\n",
      "Value 6000     found in haystack of size 10000    at index 6000     in 0.00022992604199998824 seconds\n",
      "Total time: 0.22992604199998823 seconds\n",
      "Value 9000     found in haystack of size 10000    at index 9000     in 0.00022793176599998332 seconds\n",
      "Total time: 0.22793176599998333 seconds\n",
      "Value 1000000  found in haystack of size 10000    at index -1       in 0.00022752615100034746 seconds\n",
      "Total time: 0.22752615100034745 seconds\n",
      "Value 1        found in haystack of size 100000   at index 1        in 0.0022591706160001194 seconds\n",
      "Total time: 2.2591706160001195 seconds\n",
      "Value 6000     found in haystack of size 100000   at index 6000     in 0.0023551035410000623 seconds\n",
      "Total time: 2.3551035410000623 seconds\n",
      "Value 9000     found in haystack of size 100000   at index 9000     in 0.0023055681000000734 seconds\n",
      "Total time: 2.305568100000073 seconds\n",
      "Value 1000000  found in haystack of size 100000   at index -1       in 0.002316156413000044 seconds\n",
      "Total time: 2.3161564130000443 seconds\n",
      "Value 1        found in haystack of size 1000000  at index 1        in 0.022930390260999956 seconds\n",
      "Total time: 22.930390260999957 seconds\n",
      "Value 6000     found in haystack of size 1000000  at index 6000     in 0.0229455701400002 seconds\n",
      "Total time: 22.9455701400002 seconds\n",
      "Value 9000     found in haystack of size 1000000  at index 9000     in 0.022994155632000003 seconds\n",
      "Total time: 22.994155632000002 seconds\n",
      "Value 1000000  found in haystack of size 1000000  at index -1       in 0.023216833469999983 seconds\n",
      "Total time: 23.216833469999983 seconds\n"
     ]
    }
   ],
   "source": [
    "import timeit\n",
    "\n",
    "def binary_search(needle, haystack):\n",
    "    imin, imax = 0, max(haystack)\n",
    "    while True:\n",
    "        if imin > imax:\n",
    "            return -1\n",
    "        midpoint = (imin+imax) // 2\n",
    "        if haystack[midpoint] > needle:\n",
    "            imax = midpoint\n",
    "            # print(f\"{haystack[midpoint]} more then {needle}\")\n",
    "        elif haystack[midpoint] < needle:\n",
    "            imin = midpoint + 1\n",
    "            # print(f\"{haystack[midpoint]} less then {needle}\")\n",
    "        else:\n",
    "            return midpoint\n",
    "\n",
    "\n",
    "# index = binary_search(53, range(500))\n",
    "# print(index)\n",
    "\n",
    "if __name__ == \"__main__\":\n",
    "    setup = \"from __main__ import (binary_search, haystack, needle)\"\n",
    "    iterations = 1000\n",
    "\n",
    "    for haystack_size in (10000, 100000, 1000000):\n",
    "        haystack = range(haystack_size)\n",
    "        for needle in (1, 6000, 9000, 1000000):\n",
    "            index = binary_search(needle, haystack)\n",
    "            t = timeit.timeit(\n",
    "                stmt=\"binary_search(needle, haystack)\", setup=setup, number=iterations\n",
    "            )\n",
    "            print(\n",
    "                f\"Value {needle: <8} found in haystack of \"\n",
    "                f\"size {len(haystack): <8} at index \"\n",
    "                f\"{index: <8} in {t/iterations} seconds\"\n",
    "            )\n",
    "\n",
    "\n",
    "            "
   ]
  },
  {
   "cell_type": "code",
   "execution_count": 35,
   "metadata": {},
   "outputs": [
    {
     "name": "stdout",
     "output_type": "stream",
     "text": [
      "[106, 117, 185, 309, 356, 682, 766, 868, 873, 973]\n",
      "1\n",
      "Closest value to -250: 41.1\n",
      "11\n",
      "Closest value to 1100: 713\n"
     ]
    }
   ],
   "source": [
    "import bisect\n",
    "import random\n",
    "\n",
    "\n",
    "def find_closest(haystack, needle):\n",
    "    # bisect.bisect_left will return the first value in the haystack\n",
    "    # that is greater than the needle\n",
    "    i = bisect.bisect_left(haystack, needle)\n",
    "    print(i)\n",
    "    if i == len(haystack):\n",
    "        return i - 1\n",
    "    elif haystack[i] == needle:\n",
    "        return i\n",
    "    elif i > 0:\n",
    "        j = i - 1\n",
    "        # since we know the value is larger than needle (and vice versa for the\n",
    "        # value at j), we don't need to use absolute values here\n",
    "        if haystack[i] - needle > needle - haystack[j]:\n",
    "\n",
    "            return j\n",
    "    return i\n",
    "\n",
    "\n",
    "if __name__ == \"__main__\":\n",
    "    important_numbers = []\n",
    "    for i in range(10):\n",
    "        new_number = random.randint(0, 1000)\n",
    "        bisect.insort(important_numbers, new_number)\n",
    "\n",
    "    print(important_numbers)\n",
    "\n",
    "    important_numbers=[30.9, 41.1, 42, 131, 251, 307, 360, 424, 550, 563, 713]\n",
    "    \n",
    "    \n",
    "\n",
    "    closest_index = find_closest(important_numbers, 41)\n",
    "    print(f\"Closest value to -250: {important_numbers[closest_index]}\")\n",
    "\n",
    "    # closest_index = find_closest(important_numbers, 500)\n",
    "    # print(f\"Closest value to 500: {important_numbers[closest_index]}\")\n",
    "\n",
    "\n",
    "    closest_index = find_closest(important_numbers, 793)\n",
    "    print(f\"Closest value to 1100: {important_numbers[closest_index]}\")\n"
   ]
  },
  {
   "cell_type": "markdown",
   "metadata": {},
   "source": [
    "### list vs. tuples"
   ]
  },
  {
   "cell_type": "code",
   "execution_count": 2,
   "metadata": {},
   "outputs": [
    {
     "name": "stdout",
     "output_type": "stream",
     "text": [
      "58.4 ns ± 0.225 ns per loop (mean ± std. dev. of 7 runs, 10000000 loops each)\n"
     ]
    }
   ],
   "source": [
    "%%timeit \n",
    "l = [0,1,2,3,4,5,6,7,8,9]"
   ]
  },
  {
   "cell_type": "code",
   "execution_count": 4,
   "metadata": {},
   "outputs": [
    {
     "name": "stdout",
     "output_type": "stream",
     "text": [
      "12.3 ns ± 0.171 ns per loop (mean ± std. dev. of 7 runs, 100000000 loops each)\n"
     ]
    }
   ],
   "source": [
    "%%timeit \n",
    "l = (0,1,2,3,4,5,6,7,8,9)"
   ]
  }
 ],
 "metadata": {
  "kernelspec": {
   "display_name": "Python 3.9.7 ('py39')",
   "language": "python",
   "name": "python3"
  },
  "language_info": {
   "codemirror_mode": {
    "name": "ipython",
    "version": 3
   },
   "file_extension": ".py",
   "mimetype": "text/x-python",
   "name": "python",
   "nbconvert_exporter": "python",
   "pygments_lexer": "ipython3",
   "version": "3.9.7"
  },
  "orig_nbformat": 4,
  "vscode": {
   "interpreter": {
    "hash": "7baa7dfc784b53c35741efd030a93ab8ffd7dc95878d4ff67192074702ba81a8"
   }
  }
 },
 "nbformat": 4,
 "nbformat_minor": 2
}
