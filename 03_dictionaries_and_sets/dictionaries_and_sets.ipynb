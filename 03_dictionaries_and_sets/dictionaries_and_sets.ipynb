{
 "cells": [
  {
   "cell_type": "code",
   "execution_count": 9,
   "metadata": {},
   "outputs": [
    {
     "name": "stdout",
     "output_type": "stream",
     "text": [
      "Numer of unique names from set method: 3\n",
      "Numer of unique names from list method: 3\n"
     ]
    }
   ],
   "source": [
    "# finding unique names with lists and sets\n",
    "\n",
    "def list_unique_names(phonebook: list[tuple[str, str]]):\n",
    "    unique_names = []\n",
    "    for name, phonenumer in phonebook: #for loop -> O(n)\n",
    "        first_name, last_name = name.split(\" \",1)\n",
    "        for unique in unique_names:\n",
    "            if unique == first_name:\n",
    "                break\n",
    "        else:\n",
    "            unique_names.append(first_name)\n",
    "    return (len(unique_names))\n",
    "\n",
    "def set_unique_names(phonebook: list[str, str]):\n",
    "    unique_names = set()\n",
    "    for name, phonenumber in phonebook: #for loop -> O(n)\n",
    "        first_name, last_name = name.split(\" \",1)\n",
    "        unique_names.add(first_name)\n",
    "    return len(unique_names)\n",
    "\n",
    "phonebook = [(\"John Doe\", \"123-456-789\"),\n",
    "    (\"Albert Einstein\", \"123-434-112\"),\n",
    "    (\"John Duplicate\", \"111-222-333\"),\n",
    "    (\"Guido Doe\", \"000-222-333\")\n",
    "]\n",
    "\n",
    "print(f\"Numer of unique names from set method: {set_unique_names(phonebook)}\")\n",
    "print(f\"Numer of unique names from list method: {list_unique_names(phonebook)}\")"
   ]
  },
  {
   "cell_type": "code",
   "execution_count": 16,
   "metadata": {},
   "outputs": [],
   "source": [
    "import random\n",
    "import string       \n",
    "def random_name():\n",
    "    first_name = \"\".join(random.sample(string.ascii_letters, 8))\n",
    "    last_name = \"\".join(random.sample(string.ascii_letters, 8))\n",
    "    return \"{} {}\".format(first_name, last_name)\n",
    "\n",
    "large_phonebook = [(random_name(), \"555-555-5555\") for i in range(1000)]"
   ]
  },
  {
   "cell_type": "code",
   "execution_count": 17,
   "metadata": {},
   "outputs": [
    {
     "name": "stdout",
     "output_type": "stream",
     "text": [
      "15.1 ms ± 240 µs per loop (mean ± std. dev. of 7 runs, 100 loops each)\n"
     ]
    }
   ],
   "source": [
    "%timeit list_unique_names(large_phonebook)"
   ]
  },
  {
   "cell_type": "code",
   "execution_count": 18,
   "metadata": {},
   "outputs": [
    {
     "name": "stdout",
     "output_type": "stream",
     "text": [
      "256 µs ± 1.94 µs per loop (mean ± std. dev. of 7 runs, 1000 loops each)\n"
     ]
    }
   ],
   "source": [
    "%timeit set_unique_names(large_phonebook)"
   ]
  },
  {
   "cell_type": "code",
   "execution_count": null,
   "metadata": {},
   "outputs": [],
   "source": []
  }
 ],
 "metadata": {
  "kernelspec": {
   "display_name": "Python 3.9.7 ('py39')",
   "language": "python",
   "name": "python3"
  },
  "language_info": {
   "codemirror_mode": {
    "name": "ipython",
    "version": 3
   },
   "file_extension": ".py",
   "mimetype": "text/x-python",
   "name": "python",
   "nbconvert_exporter": "python",
   "pygments_lexer": "ipython3",
   "version": "3.9.7"
  },
  "orig_nbformat": 4,
  "vscode": {
   "interpreter": {
    "hash": "7baa7dfc784b53c35741efd030a93ab8ffd7dc95878d4ff67192074702ba81a8"
   }
  }
 },
 "nbformat": 4,
 "nbformat_minor": 2
}
