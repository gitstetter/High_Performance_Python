{
 "cells": [
  {
   "cell_type": "markdown",
   "metadata": {},
   "source": [
    "Getting the relevant data to code basis can be the bottleneck, as opposed to the actual code itself.\n",
    "\n",
    "When this is the case, the program is calles I/O bound -> the speed is bounded by the efficiency of the input/output\n",
    "\n",
    "Every time code reads from a file or writes to a network socket, it must pause to contact the kernel, request that the actual read happens, and then wait for it to complete.\n",
    "\n",
    "This is because it's not the program but the kernel that does the actual read operation, as the kernel is responsiblefor managing any interaction with the hardware.\n",
    "\n"
   ]
  },
  {
   "cell_type": "markdown",
   "metadata": {},
   "source": [
    "Most I/O operations on devices are multiple times slower than the CPU. So even if the communication with the kernel is fast, most time is spent for the kernel to get the result from the device and send it back to the program.\n",
    "\n",
    "During this time the propram is halted, until it gets a signal that the write operation has completed. Time spent in a paused state is called I/O wait"
   ]
  },
  {
   "cell_type": "markdown",
   "metadata": {},
   "source": [
    "Asynchronous I/O helps to utilize this waiting time by allowing  to perform other operations while the program is in I/O state:\n",
    "\n",
    "![](../pics/IMG_6462.jpg)\n",
    "\n",
    "This is possible because while a program is in I/O wait, the kernel is simpky waiting for the device requested to read from to send a signal that the requested data is ready.\n",
    "\n",
    "Instead of waiting, we can create a mechanism (event loop: list of functions that need to be run) so that we can dispatch requests of data, continue performing compute operations, and be notified when the data is ready to be read."
   ]
  },
  {
   "cell_type": "markdown",
   "metadata": {},
   "source": []
  },
  {
   "cell_type": "markdown",
   "metadata": {},
   "source": [
    "### Important: this is all still happening an a single thread and still uses one CPU at a time\n",
    "\n",
    "In contrast to multiprocessing/multithreading, where a new process is launched that does experience I/O wait but uses multitasking nature of modern CPUs to allow the main process to continue.\n",
    "\n",
    "These two mechanisms are often used in tandem: multiple processes are launched, each is efficient at asynchronous I/O.\n"
   ]
  }
 ],
 "metadata": {
  "kernelspec": {
   "display_name": "Python 3.9.7 ('py39')",
   "language": "python",
   "name": "python3"
  },
  "language_info": {
   "name": "python",
   "version": "3.9.7"
  },
  "orig_nbformat": 4,
  "vscode": {
   "interpreter": {
    "hash": "7baa7dfc784b53c35741efd030a93ab8ffd7dc95878d4ff67192074702ba81a8"
   }
  }
 },
 "nbformat": 4,
 "nbformat_minor": 2
}
