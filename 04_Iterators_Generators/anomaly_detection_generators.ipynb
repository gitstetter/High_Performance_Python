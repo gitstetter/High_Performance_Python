{
 "cells": [
  {
   "cell_type": "code",
   "execution_count": 1,
   "metadata": {},
   "outputs": [],
   "source": [
    "from random import normalvariate, randint\n",
    "from itertools import count\n",
    "from datetime import datetime\n",
    "from itertools import groupby\n",
    "\n",
    "from scipy.stats import normaltest\n",
    "from itertools import filterfalse\n",
    "from itertools import islice"
   ]
  },
  {
   "cell_type": "code",
   "execution_count": 5,
   "metadata": {},
   "outputs": [],
   "source": [
    "def read_data(filename):\n",
    "    with open(filename) as fd:\n",
    "        for line in fd:\n",
    "            data = line.strip().split(',')\n",
    "            timestamp, value = map(int, data)\n",
    "            yield datetime.fromtimestamp(timestamp), value\n",
    "\n",
    "\n",
    "\n",
    "def read_fake_data(filename):\n",
    "    for timestamp in count():\n",
    "        # insert anomalous data poit aooroxinately once a week\n",
    "        if randint(0, 7 * 60 * 60 * 24 - 1) !=1:\n",
    "            value = normalvariate(0,1)\n",
    "\n",
    "        else:\n",
    "            value = 100\n",
    "        \n",
    "        yield datetime.fromtimestamp(timestamp), value\n",
    "\n",
    "def groupby_day(iterable):\n",
    "    key = lambda row: row[0].day\n",
    "    for data, data_group in groupby(iterable, key):\n",
    "        yield list(data_group)\n",
    "\n",
    "def groupby_window(data, window_size=3600):\n",
    "    window = tuple(islice(data, window_size))\n",
    "    for item in data:\n",
    "        yield window\n",
    "        window = window[1:] + (item,)\n",
    "\n",
    "def is_normal(data, threshold=1e-3):\n",
    "    _, values = zip(*data)\n",
    "    k2, p_values = normaltest(values)\n",
    "    if p_values<threshold:\n",
    "        return False\n",
    "    return True\n",
    "\n",
    "def filter_anomalous_groups(data):\n",
    "    \"\"\"Filter down the dataset only to inputs that don't pass the test\"\"\"\n",
    "\n",
    "    yield from filterfalse(is_normal, data)\n",
    "\n",
    "\n",
    "def filter_anomalous_data(data):\n",
    "    data_group= groupby_day(data)\n",
    "    # data_group= groupby_window(data)\n",
    "    yield from filter_anomalous_groups(data_group)"
   ]
  },
  {
   "cell_type": "code",
   "execution_count": 6,
   "metadata": {},
   "outputs": [],
   "source": [
    "data = read_fake_data(filename='abc')\n",
    "\n",
    "anomaly_generator = filter_anomalous_data(data)\n",
    "\n",
    "first_10_anomalies = islice(anomaly_generator, 10)"
   ]
  },
  {
   "cell_type": "code",
   "execution_count": 8,
   "metadata": {},
   "outputs": [],
   "source": [
    "for data_anomaly in first_10_anomalies:\n",
    "    # print(data_anomaly)\n",
    "\n",
    "    start_date = data_anomaly[0][0]\n",
    "    end_date = data_anomaly[-1][0]\n",
    "    print(f\"Anomaly from {start_date} - {end_date}\")"
   ]
  },
  {
   "cell_type": "code",
   "execution_count": null,
   "metadata": {},
   "outputs": [],
   "source": []
  }
 ],
 "metadata": {
  "kernelspec": {
   "display_name": "Python 3.9.7 ('py39')",
   "language": "python",
   "name": "python3"
  },
  "language_info": {
   "codemirror_mode": {
    "name": "ipython",
    "version": 3
   },
   "file_extension": ".py",
   "mimetype": "text/x-python",
   "name": "python",
   "nbconvert_exporter": "python",
   "pygments_lexer": "ipython3",
   "version": "3.9.7"
  },
  "orig_nbformat": 4,
  "vscode": {
   "interpreter": {
    "hash": "7baa7dfc784b53c35741efd030a93ab8ffd7dc95878d4ff67192074702ba81a8"
   }
  }
 },
 "nbformat": 4,
 "nbformat_minor": 2
}
